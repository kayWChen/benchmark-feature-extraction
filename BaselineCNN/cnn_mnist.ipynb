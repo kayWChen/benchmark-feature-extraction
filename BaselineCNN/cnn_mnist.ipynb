{
 "cells": [
  {
   "cell_type": "code",
   "execution_count": 9,
   "metadata": {},
   "outputs": [],
   "source": [
    "import time\n",
    "import tensorflow as tf\n",
    "from tensorflow.keras import layers, models\n",
    "from tensorflow.keras.datasets import fashion_mnist\n",
    "from sklearn.metrics import classification_report\n",
    "import numpy as np\n",
    "import os\n",
    "import numpy as np\n",
    "from PIL import Image\n",
    "from sklearn.model_selection import train_test_split\n",
    "from tensorflow.keras.utils import plot_model\n",
    "import matplotlib.pyplot as plt\n",
    "import PIL.Image as Image\n",
    "import json\n",
    "import pandas as pd\n",
    "import logging"
   ]
  },
  {
   "cell_type": "code",
   "execution_count": 4,
   "metadata": {},
   "outputs": [],
   "source": [
    "def data_loader(base_dir):\n",
    "    images = []\n",
    "    image_labels = []\n",
    "\n",
    "    # Loop through each folder in the base directory (each folder corresponds to a label)\n",
    "    for label in os.listdir(base_dir):\n",
    "        label_dir = os.path.join(base_dir, label)\n",
    "\n",
    "        # Check if the current item is a directory\n",
    "        if os.path.isdir(label_dir):\n",
    "            # Loop through all images in the folder\n",
    "            for filename in os.listdir(label_dir):\n",
    "                image_path = os.path.join(label_dir, filename)\n",
    "                if filename.endswith('.png') or filename.endswith('.jpg'):\n",
    "                    # Load the image and resize it to 28x28 (MNIST size)\n",
    "                    img = Image.open(image_path).convert('L')\n",
    "                    img_array = np.array(img)  # Convert image to numpy array\n",
    "                    images.append(img_array)\n",
    "                    image_labels.append(int(label))  # Use the folder name as the label\n",
    "\n",
    "    # Convert lists to numpy arrays\n",
    "    x_data = np.array(images)  # Shape: (num_images, 28, 28)\n",
    "    y_data = np.array(image_labels)  # Shape: (num_images,)\n",
    "    \n",
    "    return x_data, y_data"
   ]
  },
  {
   "cell_type": "code",
   "execution_count": 5,
   "metadata": {},
   "outputs": [
    {
     "name": "stdout",
     "output_type": "stream",
     "text": [
      "(60000, 28, 28)\n",
      "(10000, 28, 28)\n"
     ]
    }
   ],
   "source": [
    "# prepare data\n",
    "dir_train_mnist = r'C:\\Users\\81903\\Desktop\\coursework\\thesis\\6. repo\\IMGRECO\\week3-replicate\\report\\datasets\\mnist\\equalized_train_images_labels-m'\n",
    "dir_test_mnist = r'C:\\Users\\81903\\Desktop\\coursework\\thesis\\6. repo\\IMGRECO\\week3-replicate\\report\\datasets\\mnist\\equalized_test_images_labels-m'\n",
    "\n",
    "x_train, y_train = data_loader(dir_train_mnist)\n",
    "x_test, y_test = data_loader(dir_test_mnist)\n",
    "print(x_train.shape)\n",
    "print(x_test.shape)"
   ]
  },
  {
   "cell_type": "code",
   "execution_count": 6,
   "metadata": {
    "colab": {
     "base_uri": "https://localhost:8080/"
    },
    "id": "TCSVLIN16t1e",
    "outputId": "fa92b730-6575-47e2-c3d6-1cbaf29bb391"
   },
   "outputs": [],
   "source": [
    "x_train = x_train.astype('float32') / 255.0\n",
    "x_test = x_test.astype('float32') / 255.0\n",
    "x_train = x_train.reshape(-1, 28, 28, 1)\n",
    "x_test = x_test.reshape(-1, 28, 28, 1)\n",
    "\n",
    "\n"
   ]
  },
  {
   "cell_type": "code",
   "execution_count": 7,
   "metadata": {},
   "outputs": [
    {
     "name": "stdout",
     "output_type": "stream",
     "text": [
      "WARNING:tensorflow:From D:\\software\\anaconda\\Lib\\site-packages\\keras\\src\\backend.py:873: The name tf.get_default_graph is deprecated. Please use tf.compat.v1.get_default_graph instead.\n",
      "\n",
      "WARNING:tensorflow:From D:\\software\\anaconda\\Lib\\site-packages\\keras\\src\\layers\\pooling\\max_pooling2d.py:161: The name tf.nn.max_pool is deprecated. Please use tf.nn.max_pool2d instead.\n",
      "\n",
      "WARNING:tensorflow:From D:\\software\\anaconda\\Lib\\site-packages\\keras\\src\\optimizers\\__init__.py:309: The name tf.train.Optimizer is deprecated. Please use tf.compat.v1.train.Optimizer instead.\n",
      "\n"
     ]
    }
   ],
   "source": [
    "# build the model\n",
    "model = models.Sequential([\n",
    "    layers.Conv2D(64, (2, 2), activation='relu', input_shape=(28, 28, 1)),\n",
    "    layers.MaxPooling2D((2, 2)),\n",
    "    layers.Dropout(0.25),\n",
    "\n",
    "    layers.Conv2D(64, (2, 2), activation='relu'),\n",
    "    layers.MaxPooling2D((2, 2)),\n",
    "    layers.Dropout(0.25),\n",
    "\n",
    "    layers.Flatten(),\n",
    "    layers.Dense(64, activation='relu'),\n",
    "    layers.Dropout(0.25),\n",
    "\n",
    "    layers.Dense(10, activation='softmax')  \n",
    "])\n",
    "\n",
    "# compile the model\n",
    "model.compile(optimizer='adam',\n",
    "              loss='sparse_categorical_crossentropy',\n",
    "              metrics=['accuracy'])\n"
   ]
  },
  {
   "cell_type": "code",
   "execution_count": 10,
   "metadata": {},
   "outputs": [
    {
     "name": "stdout",
     "output_type": "stream",
     "text": [
      "Epoch 1/50\n",
      "WARNING:tensorflow:From D:\\software\\anaconda\\Lib\\site-packages\\keras\\src\\utils\\tf_utils.py:492: The name tf.ragged.RaggedTensorValue is deprecated. Please use tf.compat.v1.ragged.RaggedTensorValue instead.\n",
      "\n",
      "WARNING:tensorflow:From D:\\software\\anaconda\\Lib\\site-packages\\keras\\src\\engine\\base_layer_utils.py:384: The name tf.executing_eagerly_outside_functions is deprecated. Please use tf.compat.v1.executing_eagerly_outside_functions instead.\n",
      "\n",
      "469/469 [==============================] - 40s 80ms/step - loss: 0.4009 - accuracy: 0.8741 - val_loss: 0.1002 - val_accuracy: 0.9693\n",
      "Epoch 2/50\n",
      "469/469 [==============================] - 38s 81ms/step - loss: 0.1445 - accuracy: 0.9553 - val_loss: 0.0593 - val_accuracy: 0.9821\n",
      "Epoch 3/50\n",
      "469/469 [==============================] - 37s 80ms/step - loss: 0.1061 - accuracy: 0.9674 - val_loss: 0.0502 - val_accuracy: 0.9841\n",
      "Epoch 4/50\n",
      "469/469 [==============================] - 37s 79ms/step - loss: 0.0889 - accuracy: 0.9717 - val_loss: 0.0439 - val_accuracy: 0.9859\n",
      "Epoch 5/50\n",
      "469/469 [==============================] - 37s 79ms/step - loss: 0.0778 - accuracy: 0.9761 - val_loss: 0.0373 - val_accuracy: 0.9874\n",
      "Epoch 6/50\n",
      "469/469 [==============================] - 37s 79ms/step - loss: 0.0698 - accuracy: 0.9779 - val_loss: 0.0343 - val_accuracy: 0.9879\n",
      "Epoch 7/50\n",
      "469/469 [==============================] - 37s 79ms/step - loss: 0.0629 - accuracy: 0.9803 - val_loss: 0.0330 - val_accuracy: 0.9892\n",
      "Epoch 8/50\n",
      "469/469 [==============================] - 38s 80ms/step - loss: 0.0592 - accuracy: 0.9811 - val_loss: 0.0329 - val_accuracy: 0.9886\n",
      "Epoch 9/50\n",
      "469/469 [==============================] - 38s 80ms/step - loss: 0.0530 - accuracy: 0.9830 - val_loss: 0.0326 - val_accuracy: 0.9885\n",
      "Epoch 10/50\n",
      "469/469 [==============================] - 37s 79ms/step - loss: 0.0506 - accuracy: 0.9840 - val_loss: 0.0293 - val_accuracy: 0.9897\n",
      "Epoch 11/50\n",
      "469/469 [==============================] - 38s 80ms/step - loss: 0.0465 - accuracy: 0.9851 - val_loss: 0.0350 - val_accuracy: 0.9883\n",
      "Epoch 12/50\n",
      "469/469 [==============================] - 37s 79ms/step - loss: 0.0457 - accuracy: 0.9850 - val_loss: 0.0294 - val_accuracy: 0.9897\n",
      "Epoch 13/50\n",
      "469/469 [==============================] - 37s 78ms/step - loss: 0.0411 - accuracy: 0.9865 - val_loss: 0.0282 - val_accuracy: 0.9903\n",
      "Epoch 14/50\n",
      "469/469 [==============================] - 37s 78ms/step - loss: 0.0415 - accuracy: 0.9866 - val_loss: 0.0274 - val_accuracy: 0.9913\n",
      "Epoch 15/50\n",
      "469/469 [==============================] - 37s 80ms/step - loss: 0.0401 - accuracy: 0.9869 - val_loss: 0.0297 - val_accuracy: 0.9893\n",
      "Epoch 16/50\n",
      "469/469 [==============================] - 37s 80ms/step - loss: 0.0378 - accuracy: 0.9877 - val_loss: 0.0269 - val_accuracy: 0.9910\n",
      "Epoch 17/50\n",
      "469/469 [==============================] - 38s 80ms/step - loss: 0.0365 - accuracy: 0.9884 - val_loss: 0.0272 - val_accuracy: 0.9906\n",
      "Epoch 18/50\n",
      "469/469 [==============================] - 37s 80ms/step - loss: 0.0340 - accuracy: 0.9887 - val_loss: 0.0312 - val_accuracy: 0.9901\n",
      "Epoch 19/50\n",
      "469/469 [==============================] - 38s 80ms/step - loss: 0.0324 - accuracy: 0.9893 - val_loss: 0.0319 - val_accuracy: 0.9891\n",
      "Epoch 20/50\n",
      "469/469 [==============================] - 38s 80ms/step - loss: 0.0317 - accuracy: 0.9896 - val_loss: 0.0297 - val_accuracy: 0.9901\n",
      "Epoch 21/50\n",
      "469/469 [==============================] - 38s 80ms/step - loss: 0.0302 - accuracy: 0.9901 - val_loss: 0.0299 - val_accuracy: 0.9913\n",
      "Epoch 22/50\n",
      "469/469 [==============================] - 37s 79ms/step - loss: 0.0299 - accuracy: 0.9902 - val_loss: 0.0314 - val_accuracy: 0.9906\n",
      "Epoch 23/50\n",
      "469/469 [==============================] - 37s 79ms/step - loss: 0.0295 - accuracy: 0.9898 - val_loss: 0.0354 - val_accuracy: 0.9892\n",
      "Epoch 24/50\n",
      "469/469 [==============================] - 38s 81ms/step - loss: 0.0291 - accuracy: 0.9901 - val_loss: 0.0288 - val_accuracy: 0.9911\n",
      "Epoch 25/50\n",
      "469/469 [==============================] - 38s 80ms/step - loss: 0.0273 - accuracy: 0.9905 - val_loss: 0.0306 - val_accuracy: 0.9908\n",
      "Epoch 26/50\n",
      "469/469 [==============================] - 38s 80ms/step - loss: 0.0263 - accuracy: 0.9911 - val_loss: 0.0309 - val_accuracy: 0.9907\n",
      "Epoch 27/50\n",
      "469/469 [==============================] - 37s 80ms/step - loss: 0.0258 - accuracy: 0.9916 - val_loss: 0.0282 - val_accuracy: 0.9916\n",
      "Epoch 28/50\n",
      "469/469 [==============================] - 38s 81ms/step - loss: 0.0259 - accuracy: 0.9909 - val_loss: 0.0280 - val_accuracy: 0.9916\n",
      "Epoch 29/50\n",
      "469/469 [==============================] - 37s 80ms/step - loss: 0.0251 - accuracy: 0.9913 - val_loss: 0.0295 - val_accuracy: 0.9907\n",
      "Epoch 30/50\n",
      "469/469 [==============================] - 37s 79ms/step - loss: 0.0248 - accuracy: 0.9917 - val_loss: 0.0278 - val_accuracy: 0.9913\n",
      "Epoch 31/50\n",
      "469/469 [==============================] - 36s 78ms/step - loss: 0.0232 - accuracy: 0.9920 - val_loss: 0.0291 - val_accuracy: 0.9911\n",
      "Epoch 32/50\n",
      "469/469 [==============================] - 35s 74ms/step - loss: 0.0245 - accuracy: 0.9913 - val_loss: 0.0305 - val_accuracy: 0.9913\n",
      "Epoch 33/50\n",
      "469/469 [==============================] - 38s 81ms/step - loss: 0.0241 - accuracy: 0.9917 - val_loss: 0.0300 - val_accuracy: 0.9909\n",
      "Epoch 34/50\n",
      "469/469 [==============================] - 38s 82ms/step - loss: 0.0223 - accuracy: 0.9926 - val_loss: 0.0311 - val_accuracy: 0.9902\n",
      "Epoch 35/50\n",
      "469/469 [==============================] - 39s 82ms/step - loss: 0.0217 - accuracy: 0.9926 - val_loss: 0.0321 - val_accuracy: 0.9903\n",
      "Epoch 36/50\n",
      "469/469 [==============================] - 38s 82ms/step - loss: 0.0220 - accuracy: 0.9924 - val_loss: 0.0302 - val_accuracy: 0.9917\n",
      "Epoch 37/50\n",
      "469/469 [==============================] - 38s 82ms/step - loss: 0.0204 - accuracy: 0.9931 - val_loss: 0.0305 - val_accuracy: 0.9906\n",
      "Epoch 38/50\n",
      "469/469 [==============================] - 37s 79ms/step - loss: 0.0211 - accuracy: 0.9931 - val_loss: 0.0313 - val_accuracy: 0.9902\n",
      "Epoch 39/50\n",
      "469/469 [==============================] - 37s 80ms/step - loss: 0.0221 - accuracy: 0.9924 - val_loss: 0.0305 - val_accuracy: 0.9915\n",
      "Epoch 40/50\n",
      "469/469 [==============================] - 31s 65ms/step - loss: 0.0189 - accuracy: 0.9937 - val_loss: 0.0296 - val_accuracy: 0.9917\n",
      "Epoch 41/50\n",
      "469/469 [==============================] - 36s 76ms/step - loss: 0.0204 - accuracy: 0.9930 - val_loss: 0.0325 - val_accuracy: 0.9910\n",
      "Epoch 42/50\n",
      "469/469 [==============================] - 38s 81ms/step - loss: 0.0205 - accuracy: 0.9927 - val_loss: 0.0315 - val_accuracy: 0.9909\n",
      "Epoch 43/50\n",
      "469/469 [==============================] - 39s 83ms/step - loss: 0.0189 - accuracy: 0.9934 - val_loss: 0.0342 - val_accuracy: 0.9905\n",
      "Epoch 44/50\n",
      "469/469 [==============================] - 37s 79ms/step - loss: 0.0192 - accuracy: 0.9936 - val_loss: 0.0306 - val_accuracy: 0.9913\n",
      "Epoch 45/50\n",
      "469/469 [==============================] - 37s 79ms/step - loss: 0.0174 - accuracy: 0.9939 - val_loss: 0.0322 - val_accuracy: 0.9914\n",
      "Epoch 46/50\n",
      "469/469 [==============================] - 37s 80ms/step - loss: 0.0182 - accuracy: 0.9940 - val_loss: 0.0330 - val_accuracy: 0.9921\n",
      "Epoch 47/50\n",
      "469/469 [==============================] - 37s 78ms/step - loss: 0.0182 - accuracy: 0.9935 - val_loss: 0.0316 - val_accuracy: 0.9915\n",
      "Epoch 48/50\n",
      "469/469 [==============================] - 38s 80ms/step - loss: 0.0184 - accuracy: 0.9937 - val_loss: 0.0326 - val_accuracy: 0.9917\n",
      "Epoch 49/50\n",
      "469/469 [==============================] - 37s 79ms/step - loss: 0.0185 - accuracy: 0.9936 - val_loss: 0.0326 - val_accuracy: 0.9906\n",
      "Epoch 50/50\n",
      "469/469 [==============================] - 38s 81ms/step - loss: 0.0173 - accuracy: 0.9939 - val_loss: 0.0312 - val_accuracy: 0.9922\n",
      "training : 1864.44 seconds\n"
     ]
    }
   ],
   "source": [
    "# Create a log file for recording training results\n",
    "log_filename = \"training_baseline_cnn_mnist.txt\"\n",
    "logging.basicConfig(filename=log_filename, level=logging.INFO, format=\"%(asctime)s - %(message)s\")\n",
    "\n",
    "# Log the start of the training process\n",
    "logging.info(\"***************This is the logging book for MNIST datasets******************\")\n",
    "# train the model\n",
    "\n",
    "start_time = time.time()\n",
    "\n",
    "history = model.fit(x_train, y_train, epochs=50, batch_size=128, validation_data=(x_test, y_test))\n",
    "\n",
    "end_time = time.time()\n",
    "training_time = end_time - start_time\n",
    "print(f\"training : {training_time:.2f} seconds\")\n",
    "logging.info(f\"training : {training_time:.2f} seconds\")"
   ]
  },
  {
   "cell_type": "code",
   "execution_count": 11,
   "metadata": {},
   "outputs": [
    {
     "name": "stdout",
     "output_type": "stream",
     "text": [
      "313/313 [==============================] - 4s 11ms/step\n",
      "Inference time: 5.4445 seconds\n",
      "\n",
      "classification report:\n",
      "               precision    recall  f1-score   support\n",
      "\n",
      "           0       1.00      0.99      0.99       980\n",
      "           1       0.99      1.00      1.00      1135\n",
      "           2       0.99      1.00      0.99      1032\n",
      "           3       0.99      1.00      0.99      1010\n",
      "           4       0.99      0.99      0.99       982\n",
      "           5       0.99      0.99      0.99       892\n",
      "           6       0.99      0.99      0.99       958\n",
      "           7       0.99      0.99      0.99      1028\n",
      "           8       1.00      0.99      1.00       974\n",
      "           9       0.99      0.98      0.99      1009\n",
      "\n",
      "    accuracy                           0.99     10000\n",
      "   macro avg       0.99      0.99      0.99     10000\n",
      "weighted avg       0.99      0.99      0.99     10000\n",
      "\n"
     ]
    },
    {
     "name": "stderr",
     "output_type": "stream",
     "text": [
      "--- Logging error ---\n",
      "Traceback (most recent call last):\n",
      "  File \"D:\\software\\anaconda\\Lib\\logging\\__init__.py\", line 1110, in emit\n",
      "    msg = self.format(record)\n",
      "          ^^^^^^^^^^^^^^^^^^^\n",
      "  File \"D:\\software\\anaconda\\Lib\\logging\\__init__.py\", line 953, in format\n",
      "    return fmt.format(record)\n",
      "           ^^^^^^^^^^^^^^^^^^\n",
      "  File \"D:\\software\\anaconda\\Lib\\logging\\__init__.py\", line 687, in format\n",
      "    record.message = record.getMessage()\n",
      "                     ^^^^^^^^^^^^^^^^^^^\n",
      "  File \"D:\\software\\anaconda\\Lib\\logging\\__init__.py\", line 377, in getMessage\n",
      "    msg = msg % self.args\n",
      "          ~~~~^~~~~~~~~~~\n",
      "TypeError: not all arguments converted during string formatting\n",
      "Call stack:\n",
      "  File \"<frozen runpy>\", line 198, in _run_module_as_main\n",
      "  File \"<frozen runpy>\", line 88, in _run_code\n",
      "  File \"D:\\software\\anaconda\\Lib\\site-packages\\ipykernel_launcher.py\", line 17, in <module>\n",
      "    app.launch_new_instance()\n",
      "  File \"D:\\software\\anaconda\\Lib\\site-packages\\traitlets\\config\\application.py\", line 992, in launch_instance\n",
      "    app.start()\n",
      "  File \"D:\\software\\anaconda\\Lib\\site-packages\\ipykernel\\kernelapp.py\", line 736, in start\n",
      "    self.io_loop.start()\n",
      "  File \"D:\\software\\anaconda\\Lib\\site-packages\\tornado\\platform\\asyncio.py\", line 195, in start\n",
      "    self.asyncio_loop.run_forever()\n",
      "  File \"D:\\software\\anaconda\\Lib\\asyncio\\base_events.py\", line 607, in run_forever\n",
      "    self._run_once()\n",
      "  File \"D:\\software\\anaconda\\Lib\\asyncio\\base_events.py\", line 1922, in _run_once\n",
      "    handle._run()\n",
      "  File \"D:\\software\\anaconda\\Lib\\asyncio\\events.py\", line 80, in _run\n",
      "    self._context.run(self._callback, *self._args)\n",
      "  File \"D:\\software\\anaconda\\Lib\\site-packages\\ipykernel\\kernelbase.py\", line 516, in dispatch_queue\n",
      "    await self.process_one()\n",
      "  File \"D:\\software\\anaconda\\Lib\\site-packages\\ipykernel\\kernelbase.py\", line 505, in process_one\n",
      "    await dispatch(*args)\n",
      "  File \"D:\\software\\anaconda\\Lib\\site-packages\\ipykernel\\kernelbase.py\", line 412, in dispatch_shell\n",
      "    await result\n",
      "  File \"D:\\software\\anaconda\\Lib\\site-packages\\ipykernel\\kernelbase.py\", line 740, in execute_request\n",
      "    reply_content = await reply_content\n",
      "  File \"D:\\software\\anaconda\\Lib\\site-packages\\ipykernel\\ipkernel.py\", line 422, in do_execute\n",
      "    res = shell.run_cell(\n",
      "  File \"D:\\software\\anaconda\\Lib\\site-packages\\ipykernel\\zmqshell.py\", line 546, in run_cell\n",
      "    return super().run_cell(*args, **kwargs)\n",
      "  File \"D:\\software\\anaconda\\Lib\\site-packages\\IPython\\core\\interactiveshell.py\", line 3024, in run_cell\n",
      "    result = self._run_cell(\n",
      "  File \"D:\\software\\anaconda\\Lib\\site-packages\\IPython\\core\\interactiveshell.py\", line 3079, in _run_cell\n",
      "    result = runner(coro)\n",
      "  File \"D:\\software\\anaconda\\Lib\\site-packages\\IPython\\core\\async_helpers.py\", line 129, in _pseudo_sync_runner\n",
      "    coro.send(None)\n",
      "  File \"D:\\software\\anaconda\\Lib\\site-packages\\IPython\\core\\interactiveshell.py\", line 3284, in run_cell_async\n",
      "    has_raised = await self.run_ast_nodes(code_ast.body, cell_name,\n",
      "  File \"D:\\software\\anaconda\\Lib\\site-packages\\IPython\\core\\interactiveshell.py\", line 3466, in run_ast_nodes\n",
      "    if await self.run_code(code, result, async_=asy):\n",
      "  File \"D:\\software\\anaconda\\Lib\\site-packages\\IPython\\core\\interactiveshell.py\", line 3526, in run_code\n",
      "    exec(code_obj, self.user_global_ns, self.user_ns)\n",
      "  File \"C:\\Users\\81903\\AppData\\Local\\Temp\\ipykernel_4604\\3246914562.py\", line 17, in <module>\n",
      "    logging.info(\"\\nclassification report:\\n\", report)\n",
      "Message: '\\nclassification report:\\n'\n",
      "Arguments: ('              precision    recall  f1-score   support\\n\\n           0       1.00      0.99      0.99       980\\n           1       0.99      1.00      1.00      1135\\n           2       0.99      1.00      0.99      1032\\n           3       0.99      1.00      0.99      1010\\n           4       0.99      0.99      0.99       982\\n           5       0.99      0.99      0.99       892\\n           6       0.99      0.99      0.99       958\\n           7       0.99      0.99      0.99      1028\\n           8       1.00      0.99      1.00       974\\n           9       0.99      0.98      0.99      1009\\n\\n    accuracy                           0.99     10000\\n   macro avg       0.99      0.99      0.99     10000\\nweighted avg       0.99      0.99      0.99     10000\\n',)\n"
     ]
    },
    {
     "name": "stdout",
     "output_type": "stream",
     "text": [
      "313/313 - 3s - loss: 0.0312 - accuracy: 0.9922 - 3s/epoch - 11ms/step\n",
      "\n",
      "Accuracy: 0.9922\n"
     ]
    }
   ],
   "source": [
    "# Evaluate the model and measure inference time\n",
    "start_time = time.time()  # Start time\n",
    "\n",
    "y_pred = model.predict(x_test)  # Model predictions\n",
    "y_pred_classes = np.argmax(y_pred, axis=1)  # Get the class with the highest probability\n",
    "\n",
    "end_time = time.time()  # End time\n",
    "inference_time = end_time - start_time  # Calculate the time taken for inference\n",
    "\n",
    "# Print the inference time\n",
    "print(f\"Inference time: {inference_time:.4f} seconds\")\n",
    "logging.info(f\"Inference time: {inference_time:.4f} seconds\")\n",
    "\n",
    "# Precision、Recall、F1-score\n",
    "report = classification_report(y_test, y_pred_classes, target_names=[str(i) for i in range(10)])\n",
    "print(\"\\nclassification report:\\n\", report)\n",
    "logging.info(\"\\nclassification report:\\n\", report)\n",
    "# Accuracy \n",
    "test_loss, test_acc = model.evaluate(x_test, y_test, verbose=2)\n",
    "print(f'\\nAccuracy: {test_acc:.4f}')\n",
    "logging.info(f'\\nAccuracy: {test_acc:.4f}')"
   ]
  },
  {
   "cell_type": "code",
   "execution_count": 2,
   "metadata": {
    "colab": {
     "base_uri": "https://localhost:8080/",
     "height": 499
    },
    "id": "2VO3HNxMEQnI",
    "outputId": "b0f5e04d-738e-4c3e-aac7-0f216817c8b7"
   },
   "outputs": [
    {
     "data": {
      "image/png": "[encoded data removed]",
      "text/plain": [
       "<Figure size 1000x600 with 1 Axes>"
      ]
     },
     "metadata": {},
     "output_type": "display_data"
    }
   ],
   "source": [
    "plot_model(model, to_file=\"cnn_model.png\", show_shapes=True, show_layer_names=True)\n",
    "\n",
    "\n",
    "img = Image.open(\"cnn_model.png\")\n",
    "plt.figure(figsize=(10, 6))\n",
    "plt.imshow(img)\n",
    "plt.axis('off')\n",
    "plt.show()"
   ]
  },
  {
   "cell_type": "code",
   "execution_count": 12,
   "metadata": {
    "colab": {
     "base_uri": "https://localhost:8080/"
    },
    "id": "ETKYxCPKT6Lp",
    "outputId": "ea962d14-ffa5-47ae-a7cf-37d04a1105ab"
   },
   "outputs": [
    {
     "name": "stderr",
     "output_type": "stream",
     "text": [
      "D:\\software\\anaconda\\Lib\\site-packages\\keras\\src\\engine\\training.py:3103: UserWarning: You are saving your model as an HDF5 file via `model.save()`. This file format is considered legacy. We recommend using instead the native Keras format, e.g. `model.save('my_model.keras')`.\n",
      "  saving_api.save_model(\n"
     ]
    }
   ],
   "source": [
    "\n",
    "\n",
    "model.save('cnn_model_mnist.h5')\n",
    "\n",
    "history_dict = history.history\n",
    "with open(\"training_history_mnist.json\", \"w\") as f:\n",
    "    json.dump(history_dict, f)\n",
    "\n",
    "# Convert the classification report string to a dictionary\n",
    "report_dict = classification_report(y_test, y_pred_classes, target_names=[str(i) for i in range(10)], output_dict=True)\n",
    "report_df = pd.DataFrame(report_dict).transpose()\n",
    "report_df.to_csv(\"classification_report_mnist.csv\", index=True)\n",
    "\n",
    "with open(\"model_info_mnist.txt\", \"w\") as f:\n",
    "    f.write(f\"training time: {training_time:.2f} s\\n\")\n",
    "    f.write(f\"accuracy on test: {test_acc:.4f}\\n\")"
   ]
  },
  {
   "cell_type": "code",
   "execution_count": null,
   "metadata": {},
   "outputs": [],
   "source": []
  }
 ],
 "metadata": {
  "colab": {
   "provenance": []
  },
  "kernelspec": {
   "display_name": "Python 3 (ipykernel)",
   "language": "python",
   "name": "python3"
  },
  "language_info": {
   "codemirror_mode": {
    "name": "ipython",
    "version": 3
   },
   "file_extension": ".py",
   "mimetype": "text/x-python",
   "name": "python",
   "nbconvert_exporter": "python",
   "pygments_lexer": "ipython3",
   "version": "3.11.5"
  }
 },
 "nbformat": 4,
 "nbformat_minor": 1
}
