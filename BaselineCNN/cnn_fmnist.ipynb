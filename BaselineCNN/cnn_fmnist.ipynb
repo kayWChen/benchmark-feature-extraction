{
 "cells": [
  {
   "cell_type": "code",
   "execution_count": 1,
   "metadata": {},
   "outputs": [
    {
     "name": "stdout",
     "output_type": "stream",
     "text": [
      "WARNING:tensorflow:From D:\\software\\anaconda\\Lib\\site-packages\\keras\\src\\losses.py:2976: The name tf.losses.sparse_softmax_cross_entropy is deprecated. Please use tf.compat.v1.losses.sparse_softmax_cross_entropy instead.\n",
      "\n"
     ]
    }
   ],
   "source": [
    "import time\n",
    "import tensorflow as tf\n",
    "from tensorflow.keras import layers, models\n",
    "from tensorflow.keras.datasets import fashion_mnist\n",
    "from sklearn.metrics import classification_report\n",
    "import numpy as np\n",
    "import os\n",
    "import numpy as np\n",
    "from PIL import Image\n",
    "from sklearn.model_selection import train_test_split\n",
    "from tensorflow.keras.utils import plot_model\n",
    "import matplotlib.pyplot as plt\n",
    "import PIL.Image as Image\n",
    "import json\n",
    "import pandas as pd\n",
    "import logging"
   ]
  },
  {
   "cell_type": "code",
   "execution_count": 2,
   "metadata": {},
   "outputs": [],
   "source": [
    "def data_loader(base_dir):\n",
    "    images = []\n",
    "    image_labels = []\n",
    "\n",
    "    # Loop through each folder in the base directory (each folder corresponds to a label)\n",
    "    for label in os.listdir(base_dir):\n",
    "        label_dir = os.path.join(base_dir, label)\n",
    "\n",
    "        # Check if the current item is a directory\n",
    "        if os.path.isdir(label_dir):\n",
    "            # Loop through all images in the folder\n",
    "            for filename in os.listdir(label_dir):\n",
    "                image_path = os.path.join(label_dir, filename)\n",
    "                if filename.endswith('.png') or filename.endswith('.jpg'):\n",
    "                    # Load the image and resize it to 28x28 (MNIST size)\n",
    "                    img = Image.open(image_path).convert('L')\n",
    "                    img_array = np.array(img)  # Convert image to numpy array\n",
    "                    images.append(img_array)\n",
    "                    image_labels.append(int(label))  # Use the folder name as the label\n",
    "\n",
    "    # Convert lists to numpy arrays\n",
    "    x_data = np.array(images)  # Shape: (num_images, 28, 28)\n",
    "    y_data = np.array(image_labels)  # Shape: (num_images,)\n",
    "    \n",
    "    return x_data, y_data"
   ]
  },
  {
   "cell_type": "code",
   "execution_count": 3,
   "metadata": {},
   "outputs": [
    {
     "name": "stdout",
     "output_type": "stream",
     "text": [
      "(60000, 28, 28)\n",
      "(10000, 28, 28)\n"
     ]
    }
   ],
   "source": [
    "# prepare data\n",
    "dir_train_fmnist = r'C:\\Users\\81903\\Desktop\\coursework\\thesis\\6. repo\\IMGRECO\\week3-replicate\\report\\datasets\\fmnist\\equalized_train_images_labels-f1'\n",
    "dir_test_fmnist = r'C:\\Users\\81903\\Desktop\\coursework\\thesis\\6. repo\\IMGRECO\\week3-replicate\\report\\datasets\\fmnist\\equalized_test_images_labels-f'\n",
    "x_train, y_train = data_loader(dir_train_fmnist)\n",
    "x_test, y_test = data_loader(dir_test_fmnist)\n",
    "print(x_train.shape)\n",
    "print(x_test.shape)"
   ]
  },
  {
   "cell_type": "code",
   "execution_count": 4,
   "metadata": {
    "colab": {
     "base_uri": "https://localhost:8080/"
    },
    "id": "TCSVLIN16t1e",
    "outputId": "fa92b730-6575-47e2-c3d6-1cbaf29bb391"
   },
   "outputs": [],
   "source": [
    "x_train = x_train.astype('float32') / 255.0\n",
    "x_test = x_test.astype('float32') / 255.0\n",
    "x_train = x_train.reshape(-1, 28, 28, 1)\n",
    "x_test = x_test.reshape(-1, 28, 28, 1)\n",
    "\n",
    "\n"
   ]
  },
  {
   "cell_type": "code",
   "execution_count": 5,
   "metadata": {},
   "outputs": [
    {
     "name": "stdout",
     "output_type": "stream",
     "text": [
      "WARNING:tensorflow:From D:\\software\\anaconda\\Lib\\site-packages\\keras\\src\\backend.py:873: The name tf.get_default_graph is deprecated. Please use tf.compat.v1.get_default_graph instead.\n",
      "\n",
      "WARNING:tensorflow:From D:\\software\\anaconda\\Lib\\site-packages\\keras\\src\\layers\\pooling\\max_pooling2d.py:161: The name tf.nn.max_pool is deprecated. Please use tf.nn.max_pool2d instead.\n",
      "\n",
      "WARNING:tensorflow:From D:\\software\\anaconda\\Lib\\site-packages\\keras\\src\\optimizers\\__init__.py:309: The name tf.train.Optimizer is deprecated. Please use tf.compat.v1.train.Optimizer instead.\n",
      "\n"
     ]
    }
   ],
   "source": [
    "# build the model\n",
    "model = models.Sequential([\n",
    "    layers.Conv2D(64, (2, 2), activation='relu', input_shape=(28, 28, 1)),\n",
    "    layers.MaxPooling2D((2, 2)),\n",
    "    layers.Dropout(0.25),\n",
    "\n",
    "    layers.Conv2D(64, (2, 2), activation='relu'),\n",
    "    layers.MaxPooling2D((2, 2)),\n",
    "    layers.Dropout(0.25),\n",
    "\n",
    "    layers.Flatten(),\n",
    "    layers.Dense(64, activation='relu'),\n",
    "    layers.Dropout(0.25),\n",
    "\n",
    "    layers.Dense(10, activation='softmax')  \n",
    "])\n",
    "\n",
    "# compile the model\n",
    "model.compile(optimizer='adam',\n",
    "              loss='sparse_categorical_crossentropy',\n",
    "              metrics=['accuracy'])\n"
   ]
  },
  {
   "cell_type": "code",
   "execution_count": 6,
   "metadata": {},
   "outputs": [
    {
     "name": "stdout",
     "output_type": "stream",
     "text": [
      "Epoch 1/50\n",
      "WARNING:tensorflow:From D:\\software\\anaconda\\Lib\\site-packages\\keras\\src\\utils\\tf_utils.py:492: The name tf.ragged.RaggedTensorValue is deprecated. Please use tf.compat.v1.ragged.RaggedTensorValue instead.\n",
      "\n",
      "WARNING:tensorflow:From D:\\software\\anaconda\\Lib\\site-packages\\keras\\src\\engine\\base_layer_utils.py:384: The name tf.executing_eagerly_outside_functions is deprecated. Please use tf.compat.v1.executing_eagerly_outside_functions instead.\n",
      "\n",
      "469/469 [==============================] - 38s 76ms/step - loss: 0.6419 - accuracy: 0.7669 - val_loss: 0.3902 - val_accuracy: 0.8643\n",
      "Epoch 2/50\n",
      "469/469 [==============================] - 36s 78ms/step - loss: 0.4084 - accuracy: 0.8537 - val_loss: 0.3393 - val_accuracy: 0.8751\n",
      "Epoch 3/50\n",
      "469/469 [==============================] - 35s 75ms/step - loss: 0.3616 - accuracy: 0.8694 - val_loss: 0.3023 - val_accuracy: 0.8908\n",
      "Epoch 4/50\n",
      "469/469 [==============================] - 35s 75ms/step - loss: 0.3340 - accuracy: 0.8803 - val_loss: 0.2880 - val_accuracy: 0.8951\n",
      "Epoch 5/50\n",
      "469/469 [==============================] - 35s 75ms/step - loss: 0.3125 - accuracy: 0.8880 - val_loss: 0.2772 - val_accuracy: 0.8974\n",
      "Epoch 6/50\n",
      "469/469 [==============================] - 35s 74ms/step - loss: 0.3018 - accuracy: 0.8906 - val_loss: 0.2671 - val_accuracy: 0.9007\n",
      "Epoch 7/50\n",
      "469/469 [==============================] - 35s 74ms/step - loss: 0.2877 - accuracy: 0.8954 - val_loss: 0.2592 - val_accuracy: 0.9061\n",
      "Epoch 8/50\n",
      "469/469 [==============================] - 36s 76ms/step - loss: 0.2763 - accuracy: 0.8993 - val_loss: 0.2527 - val_accuracy: 0.9105\n",
      "Epoch 9/50\n",
      "469/469 [==============================] - 36s 76ms/step - loss: 0.2673 - accuracy: 0.9039 - val_loss: 0.2506 - val_accuracy: 0.9081\n",
      "Epoch 10/50\n",
      "469/469 [==============================] - 35s 74ms/step - loss: 0.2609 - accuracy: 0.9043 - val_loss: 0.2500 - val_accuracy: 0.9068\n",
      "Epoch 11/50\n",
      "469/469 [==============================] - 35s 75ms/step - loss: 0.2513 - accuracy: 0.9088 - val_loss: 0.2417 - val_accuracy: 0.9117\n",
      "Epoch 12/50\n",
      "469/469 [==============================] - 35s 76ms/step - loss: 0.2483 - accuracy: 0.9092 - val_loss: 0.2374 - val_accuracy: 0.9101\n",
      "Epoch 13/50\n",
      "469/469 [==============================] - 36s 76ms/step - loss: 0.2392 - accuracy: 0.9124 - val_loss: 0.2368 - val_accuracy: 0.9135\n",
      "Epoch 14/50\n",
      "469/469 [==============================] - 35s 76ms/step - loss: 0.2364 - accuracy: 0.9143 - val_loss: 0.2348 - val_accuracy: 0.9147\n",
      "Epoch 15/50\n",
      "469/469 [==============================] - 35s 74ms/step - loss: 0.2302 - accuracy: 0.9147 - val_loss: 0.2356 - val_accuracy: 0.9139\n",
      "Epoch 16/50\n",
      "469/469 [==============================] - 36s 76ms/step - loss: 0.2244 - accuracy: 0.9174 - val_loss: 0.2339 - val_accuracy: 0.9184\n",
      "Epoch 17/50\n",
      "469/469 [==============================] - 35s 75ms/step - loss: 0.2178 - accuracy: 0.9205 - val_loss: 0.2319 - val_accuracy: 0.9168\n",
      "Epoch 18/50\n",
      "469/469 [==============================] - 35s 74ms/step - loss: 0.2174 - accuracy: 0.9199 - val_loss: 0.2329 - val_accuracy: 0.9163\n",
      "Epoch 19/50\n",
      "469/469 [==============================] - 35s 75ms/step - loss: 0.2125 - accuracy: 0.9214 - val_loss: 0.2320 - val_accuracy: 0.9179\n",
      "Epoch 20/50\n",
      "469/469 [==============================] - 35s 75ms/step - loss: 0.2078 - accuracy: 0.9227 - val_loss: 0.2308 - val_accuracy: 0.9178\n",
      "Epoch 21/50\n",
      "469/469 [==============================] - 36s 76ms/step - loss: 0.2040 - accuracy: 0.9246 - val_loss: 0.2362 - val_accuracy: 0.9166\n",
      "Epoch 22/50\n",
      "469/469 [==============================] - 35s 76ms/step - loss: 0.1999 - accuracy: 0.9251 - val_loss: 0.2339 - val_accuracy: 0.9166\n",
      "Epoch 23/50\n",
      "469/469 [==============================] - 35s 75ms/step - loss: 0.1987 - accuracy: 0.9250 - val_loss: 0.2313 - val_accuracy: 0.9189\n",
      "Epoch 24/50\n",
      "469/469 [==============================] - 35s 75ms/step - loss: 0.1950 - accuracy: 0.9262 - val_loss: 0.2334 - val_accuracy: 0.9188\n",
      "Epoch 25/50\n",
      "469/469 [==============================] - 36s 77ms/step - loss: 0.1897 - accuracy: 0.9312 - val_loss: 0.2253 - val_accuracy: 0.9220\n",
      "Epoch 26/50\n",
      "469/469 [==============================] - 36s 77ms/step - loss: 0.1903 - accuracy: 0.9288 - val_loss: 0.2301 - val_accuracy: 0.9188\n",
      "Epoch 27/50\n",
      "469/469 [==============================] - 36s 76ms/step - loss: 0.1885 - accuracy: 0.9288 - val_loss: 0.2347 - val_accuracy: 0.9190\n",
      "Epoch 28/50\n",
      "469/469 [==============================] - 35s 75ms/step - loss: 0.1843 - accuracy: 0.9314 - val_loss: 0.2328 - val_accuracy: 0.9168\n",
      "Epoch 29/50\n",
      "469/469 [==============================] - 36s 77ms/step - loss: 0.1855 - accuracy: 0.9304 - val_loss: 0.2316 - val_accuracy: 0.9180\n",
      "Epoch 30/50\n",
      "469/469 [==============================] - 35s 74ms/step - loss: 0.1793 - accuracy: 0.9313 - val_loss: 0.2341 - val_accuracy: 0.9187\n",
      "Epoch 31/50\n",
      "469/469 [==============================] - 35s 74ms/step - loss: 0.1765 - accuracy: 0.9333 - val_loss: 0.2389 - val_accuracy: 0.9165\n",
      "Epoch 32/50\n",
      "469/469 [==============================] - 35s 75ms/step - loss: 0.1754 - accuracy: 0.9333 - val_loss: 0.2339 - val_accuracy: 0.9208\n",
      "Epoch 33/50\n",
      "469/469 [==============================] - 35s 75ms/step - loss: 0.1784 - accuracy: 0.9325 - val_loss: 0.2357 - val_accuracy: 0.9187\n",
      "Epoch 34/50\n",
      "469/469 [==============================] - 36s 77ms/step - loss: 0.1725 - accuracy: 0.9349 - val_loss: 0.2344 - val_accuracy: 0.9200\n",
      "Epoch 35/50\n",
      "469/469 [==============================] - 36s 77ms/step - loss: 0.1698 - accuracy: 0.9349 - val_loss: 0.2430 - val_accuracy: 0.9195\n",
      "Epoch 36/50\n",
      "469/469 [==============================] - 35s 75ms/step - loss: 0.1716 - accuracy: 0.9355 - val_loss: 0.2434 - val_accuracy: 0.9157\n",
      "Epoch 37/50\n",
      "469/469 [==============================] - 36s 76ms/step - loss: 0.1676 - accuracy: 0.9373 - val_loss: 0.2441 - val_accuracy: 0.9173\n",
      "Epoch 38/50\n",
      "469/469 [==============================] - 35s 75ms/step - loss: 0.1639 - accuracy: 0.9369 - val_loss: 0.2364 - val_accuracy: 0.9170\n",
      "Epoch 39/50\n",
      "469/469 [==============================] - 36s 76ms/step - loss: 0.1662 - accuracy: 0.9383 - val_loss: 0.2394 - val_accuracy: 0.9201\n",
      "Epoch 40/50\n",
      "469/469 [==============================] - 35s 74ms/step - loss: 0.1630 - accuracy: 0.9373 - val_loss: 0.2324 - val_accuracy: 0.9196\n",
      "Epoch 41/50\n",
      "469/469 [==============================] - 36s 76ms/step - loss: 0.1613 - accuracy: 0.9397 - val_loss: 0.2389 - val_accuracy: 0.9191\n",
      "Epoch 42/50\n",
      "469/469 [==============================] - 36s 77ms/step - loss: 0.1608 - accuracy: 0.9396 - val_loss: 0.2364 - val_accuracy: 0.9192\n",
      "Epoch 43/50\n",
      "469/469 [==============================] - 35s 75ms/step - loss: 0.1564 - accuracy: 0.9411 - val_loss: 0.2460 - val_accuracy: 0.9187\n",
      "Epoch 44/50\n",
      "469/469 [==============================] - 36s 77ms/step - loss: 0.1585 - accuracy: 0.9400 - val_loss: 0.2457 - val_accuracy: 0.9182\n",
      "Epoch 45/50\n",
      "469/469 [==============================] - 35s 75ms/step - loss: 0.1570 - accuracy: 0.9412 - val_loss: 0.2420 - val_accuracy: 0.9197\n",
      "Epoch 46/50\n",
      "469/469 [==============================] - 35s 75ms/step - loss: 0.1571 - accuracy: 0.9409 - val_loss: 0.2458 - val_accuracy: 0.9169\n",
      "Epoch 47/50\n",
      "469/469 [==============================] - 35s 75ms/step - loss: 0.1554 - accuracy: 0.9407 - val_loss: 0.2482 - val_accuracy: 0.9182\n",
      "Epoch 48/50\n",
      "469/469 [==============================] - 35s 75ms/step - loss: 0.1543 - accuracy: 0.9408 - val_loss: 0.2412 - val_accuracy: 0.9197\n",
      "Epoch 49/50\n",
      "469/469 [==============================] - 36s 76ms/step - loss: 0.1516 - accuracy: 0.9416 - val_loss: 0.2509 - val_accuracy: 0.9175\n",
      "Epoch 50/50\n",
      "469/469 [==============================] - 36s 77ms/step - loss: 0.1524 - accuracy: 0.9424 - val_loss: 0.2496 - val_accuracy: 0.9183\n",
      "training : 1772.09 seconds\n"
     ]
    }
   ],
   "source": [
    "# Create a log file for recording training results\n",
    "log_filename = \"training_baseline_cnn_fmnist.txt\"\n",
    "logging.basicConfig(filename=log_filename, level=logging.INFO, format=\"%(asctime)s - %(message)s\")\n",
    "\n",
    "# Log the start of the training process\n",
    "logging.info(\"***************This is the logging book for FMNIST datasets******************\")\n",
    "# train the model\n",
    "\n",
    "start_time = time.time()\n",
    "\n",
    "history = model.fit(x_train, y_train, epochs=50, batch_size=128, validation_data=(x_test, y_test))\n",
    "\n",
    "end_time = time.time()\n",
    "training_time = end_time - start_time\n",
    "print(f\"training : {training_time:.2f} seconds\")\n",
    "logging.info(f\"training : {training_time:.2f} seconds\")"
   ]
  },
  {
   "cell_type": "code",
   "execution_count": 7,
   "metadata": {},
   "outputs": [
    {
     "name": "stdout",
     "output_type": "stream",
     "text": [
      "313/313 [==============================] - 3s 9ms/step\n",
      "Inference time: 5.4689 seconds\n",
      "\n",
      "classification report:\n",
      "               precision    recall  f1-score   support\n",
      "\n",
      "           0       0.86      0.88      0.87      1000\n",
      "           1       0.99      0.98      0.99      1000\n",
      "           2       0.88      0.88      0.88      1000\n",
      "           3       0.91      0.92      0.92      1000\n",
      "           4       0.85      0.91      0.88      1000\n",
      "           5       0.99      0.98      0.99      1000\n",
      "           6       0.79      0.72      0.75      1000\n",
      "           7       0.95      0.98      0.97      1000\n",
      "           8       0.97      0.98      0.98      1000\n",
      "           9       0.98      0.96      0.97      1000\n",
      "\n",
      "    accuracy                           0.92     10000\n",
      "   macro avg       0.92      0.92      0.92     10000\n",
      "weighted avg       0.92      0.92      0.92     10000\n",
      "\n"
     ]
    },
    {
     "name": "stderr",
     "output_type": "stream",
     "text": [
      "--- Logging error ---\n",
      "Traceback (most recent call last):\n",
      "  File \"D:\\software\\anaconda\\Lib\\logging\\__init__.py\", line 1110, in emit\n",
      "    msg = self.format(record)\n",
      "          ^^^^^^^^^^^^^^^^^^^\n",
      "  File \"D:\\software\\anaconda\\Lib\\logging\\__init__.py\", line 953, in format\n",
      "    return fmt.format(record)\n",
      "           ^^^^^^^^^^^^^^^^^^\n",
      "  File \"D:\\software\\anaconda\\Lib\\logging\\__init__.py\", line 687, in format\n",
      "    record.message = record.getMessage()\n",
      "                     ^^^^^^^^^^^^^^^^^^^\n",
      "  File \"D:\\software\\anaconda\\Lib\\logging\\__init__.py\", line 377, in getMessage\n",
      "    msg = msg % self.args\n",
      "          ~~~~^~~~~~~~~~~\n",
      "TypeError: not all arguments converted during string formatting\n",
      "Call stack:\n",
      "  File \"<frozen runpy>\", line 198, in _run_module_as_main\n",
      "  File \"<frozen runpy>\", line 88, in _run_code\n",
      "  File \"D:\\software\\anaconda\\Lib\\site-packages\\ipykernel_launcher.py\", line 17, in <module>\n",
      "    app.launch_new_instance()\n",
      "  File \"D:\\software\\anaconda\\Lib\\site-packages\\traitlets\\config\\application.py\", line 992, in launch_instance\n",
      "    app.start()\n",
      "  File \"D:\\software\\anaconda\\Lib\\site-packages\\ipykernel\\kernelapp.py\", line 736, in start\n",
      "    self.io_loop.start()\n",
      "  File \"D:\\software\\anaconda\\Lib\\site-packages\\tornado\\platform\\asyncio.py\", line 195, in start\n",
      "    self.asyncio_loop.run_forever()\n",
      "  File \"D:\\software\\anaconda\\Lib\\asyncio\\base_events.py\", line 607, in run_forever\n",
      "    self._run_once()\n",
      "  File \"D:\\software\\anaconda\\Lib\\asyncio\\base_events.py\", line 1922, in _run_once\n",
      "    handle._run()\n",
      "  File \"D:\\software\\anaconda\\Lib\\asyncio\\events.py\", line 80, in _run\n",
      "    self._context.run(self._callback, *self._args)\n",
      "  File \"D:\\software\\anaconda\\Lib\\site-packages\\ipykernel\\kernelbase.py\", line 516, in dispatch_queue\n",
      "    await self.process_one()\n",
      "  File \"D:\\software\\anaconda\\Lib\\site-packages\\ipykernel\\kernelbase.py\", line 505, in process_one\n",
      "    await dispatch(*args)\n",
      "  File \"D:\\software\\anaconda\\Lib\\site-packages\\ipykernel\\kernelbase.py\", line 412, in dispatch_shell\n",
      "    await result\n",
      "  File \"D:\\software\\anaconda\\Lib\\site-packages\\ipykernel\\kernelbase.py\", line 740, in execute_request\n",
      "    reply_content = await reply_content\n",
      "  File \"D:\\software\\anaconda\\Lib\\site-packages\\ipykernel\\ipkernel.py\", line 422, in do_execute\n",
      "    res = shell.run_cell(\n",
      "  File \"D:\\software\\anaconda\\Lib\\site-packages\\ipykernel\\zmqshell.py\", line 546, in run_cell\n",
      "    return super().run_cell(*args, **kwargs)\n",
      "  File \"D:\\software\\anaconda\\Lib\\site-packages\\IPython\\core\\interactiveshell.py\", line 3024, in run_cell\n",
      "    result = self._run_cell(\n",
      "  File \"D:\\software\\anaconda\\Lib\\site-packages\\IPython\\core\\interactiveshell.py\", line 3079, in _run_cell\n",
      "    result = runner(coro)\n",
      "  File \"D:\\software\\anaconda\\Lib\\site-packages\\IPython\\core\\async_helpers.py\", line 129, in _pseudo_sync_runner\n",
      "    coro.send(None)\n",
      "  File \"D:\\software\\anaconda\\Lib\\site-packages\\IPython\\core\\interactiveshell.py\", line 3284, in run_cell_async\n",
      "    has_raised = await self.run_ast_nodes(code_ast.body, cell_name,\n",
      "  File \"D:\\software\\anaconda\\Lib\\site-packages\\IPython\\core\\interactiveshell.py\", line 3466, in run_ast_nodes\n",
      "    if await self.run_code(code, result, async_=asy):\n",
      "  File \"D:\\software\\anaconda\\Lib\\site-packages\\IPython\\core\\interactiveshell.py\", line 3526, in run_code\n",
      "    exec(code_obj, self.user_global_ns, self.user_ns)\n",
      "  File \"C:\\Users\\81903\\AppData\\Local\\Temp\\ipykernel_29460\\3246914562.py\", line 17, in <module>\n",
      "    logging.info(\"\\nclassification report:\\n\", report)\n",
      "Message: '\\nclassification report:\\n'\n",
      "Arguments: ('              precision    recall  f1-score   support\\n\\n           0       0.86      0.88      0.87      1000\\n           1       0.99      0.98      0.99      1000\\n           2       0.88      0.88      0.88      1000\\n           3       0.91      0.92      0.92      1000\\n           4       0.85      0.91      0.88      1000\\n           5       0.99      0.98      0.99      1000\\n           6       0.79      0.72      0.75      1000\\n           7       0.95      0.98      0.97      1000\\n           8       0.97      0.98      0.98      1000\\n           9       0.98      0.96      0.97      1000\\n\\n    accuracy                           0.92     10000\\n   macro avg       0.92      0.92      0.92     10000\\nweighted avg       0.92      0.92      0.92     10000\\n',)\n"
     ]
    },
    {
     "name": "stdout",
     "output_type": "stream",
     "text": [
      "313/313 - 3s - loss: 0.2496 - accuracy: 0.9183 - 3s/epoch - 10ms/step\n",
      "\n",
      "Accuracy: 0.9183\n"
     ]
    }
   ],
   "source": [
    "# Evaluate the model and measure inference time\n",
    "start_time = time.time()  # Start time\n",
    "\n",
    "y_pred = model.predict(x_test)  # Model predictions\n",
    "y_pred_classes = np.argmax(y_pred, axis=1)  # Get the class with the highest probability\n",
    "\n",
    "end_time = time.time()  # End time\n",
    "inference_time = end_time - start_time  # Calculate the time taken for inference\n",
    "\n",
    "# Print the inference time\n",
    "print(f\"Inference time: {inference_time:.4f} seconds\")\n",
    "logging.info(f\"Inference time: {inference_time:.4f} seconds\")\n",
    "\n",
    "# Precision、Recall、F1-score\n",
    "report = classification_report(y_test, y_pred_classes, target_names=[str(i) for i in range(10)])\n",
    "print(\"\\nclassification report:\\n\", report)\n",
    "logging.info(\"\\nclassification report:\\n\", report)\n",
    "# Accuracy \n",
    "test_loss, test_acc = model.evaluate(x_test, y_test, verbose=2)\n",
    "print(f'\\nAccuracy: {test_acc:.4f}')\n",
    "logging.info(f'\\nAccuracy: {test_acc:.4f}')"
   ]
  },
  {
   "cell_type": "code",
   "execution_count": 9,
   "metadata": {
    "colab": {
     "base_uri": "https://localhost:8080/"
    },
    "id": "ETKYxCPKT6Lp",
    "outputId": "ea962d14-ffa5-47ae-a7cf-37d04a1105ab"
   },
   "outputs": [
    {
     "name": "stderr",
     "output_type": "stream",
     "text": [
      "D:\\software\\anaconda\\Lib\\site-packages\\keras\\src\\engine\\training.py:3103: UserWarning: You are saving your model as an HDF5 file via `model.save()`. This file format is considered legacy. We recommend using instead the native Keras format, e.g. `model.save('my_model.keras')`.\n",
      "  saving_api.save_model(\n"
     ]
    }
   ],
   "source": [
    "\n",
    "\n",
    "model.save('cnn_model_fmnist.h5')\n",
    "\n",
    "history_dict = history.history\n",
    "with open(\"training_history_fmnist.json\", \"w\") as f:\n",
    "    json.dump(history_dict, f)\n",
    "\n",
    "# Convert the classification report string to a dictionary\n",
    "report_dict = classification_report(y_test, y_pred_classes, target_names=[str(i) for i in range(10)], output_dict=True)\n",
    "report_df = pd.DataFrame(report_dict).transpose()\n",
    "report_df.to_csv(\"classification_report_fmnist.csv\", index=True)\n",
    "\n",
    "with open(\"model_info_fmnist.txt\", \"w\") as f:\n",
    "    f.write(f\"training time: {training_time:.2f} s\\n\")\n",
    "    f.write(f\"accuracy on test: {test_acc:.4f}\\n\")"
   ]
  },
  {
   "cell_type": "code",
   "execution_count": null,
   "metadata": {},
   "outputs": [],
   "source": []
  }
 ],
 "metadata": {
  "colab": {
   "provenance": []
  },
  "kernelspec": {
   "display_name": "Python 3 (ipykernel)",
   "language": "python",
   "name": "python3"
  },
  "language_info": {
   "codemirror_mode": {
    "name": "ipython",
    "version": 3
   },
   "file_extension": ".py",
   "mimetype": "text/x-python",
   "name": "python",
   "nbconvert_exporter": "python",
   "pygments_lexer": "ipython3",
   "version": "3.11.5"
  }
 },
 "nbformat": 4,
 "nbformat_minor": 1
}
